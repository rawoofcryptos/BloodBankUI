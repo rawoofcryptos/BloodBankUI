{
  "cells": [
    {
      "cell_type": "markdown",
      "metadata": {
        "id": "view-in-github",
        "colab_type": "text"
      },
      "source": [
        "<a href=\"https://colab.research.google.com/github/rawoofcryptos/BloodBankUI/blob/master/Option_Discount_Check.ipynb\" target=\"_parent\"><img src=\"https://colab.research.google.com/assets/colab-badge.svg\" alt=\"Open In Colab\"/></a>"
      ]
    },
    {
      "cell_type": "markdown",
      "metadata": {
        "id": "VFLLCrOugfmT"
      },
      "source": [
        "# Stream Option Data"
      ]
    },
    {
      "cell_type": "code",
      "execution_count": null,
      "metadata": {
        "colab": {
          "base_uri": "https://localhost:8080/",
          "height": 288
        },
        "id": "1-kgyg2tghV_",
        "outputId": "99a2da6c-006d-4dad-c302-2ec3594c89d4"
      },
      "outputs": [
        {
          "output_type": "display_data",
          "data": {
            "text/plain": [
              "<IPython.core.display.Javascript object>"
            ],
            "application/javascript": [
              "google.colab.output.setIframeHeight(0, true, {maxHeight: 5000})"
            ]
          },
          "metadata": {}
        },
        {
          "output_type": "stream",
          "name": "stderr",
          "text": [
            "ERROR:root:Internal Python error in the inspect module.\n",
            "Below is the traceback from this internal error.\n",
            "\n"
          ]
        },
        {
          "output_type": "stream",
          "name": "stdout",
          "text": [
            "NameError: name 'CREDS' is not defined\n",
            "\n",
            "During handling of the above exception, another exception occurred:\n",
            "\n",
            "AttributeError: 'NameError' object has no attribute '_render_traceback_'\n",
            "\n",
            "During handling of the above exception, another exception occurred:\n",
            "\n",
            "AssertionError\n"
          ]
        },
        {
          "output_type": "error",
          "ename": "NameError",
          "evalue": "ignored",
          "traceback": [
            "\u001b[0;31m---------------------------------------------------------------------------\u001b[0m"
          ]
        }
      ],
      "source": [
        "#@title { form-width: \"25%\", display-mode: \"form\" }\n",
        "display(Javascript(\"\"\"google.colab.output.setIframeHeight(0, true, {maxHeight: 5000})\"\"\"))\n",
        "STREAM_DATA = True #@param { type: 'boolean' }\n",
        "if STREAM_DATA:\n",
        "  if INCLUDE_NIFTY or INCLUDE_BANKNIFTY or INCLUDE_FINNIFTY:\n",
        "    try:\n",
        "      option_chain = FetchOptionData(\n",
        "        CREDS, EMAIL, \n",
        "        PASSWORD_5PAISA, DOB_YYYYMMDD, \n",
        "        BNF_NIFTY_EXPIRY_, FINNIFTY_EXPIRY_,\n",
        "        INCLUDE_NIFTY, INCLUDE_BANKNIFTY, INCLUDE_FINNIFTY,\n",
        "        BNF_NIFTY_FUT_EXPIRY_, FINNIFTY_FUT_EXPIRY_)\n",
        "      \n",
        "      option_chain.stream()\n",
        "\n",
        "    except (FetchExpiryException, InvalidLoginException, \n",
        "            InvalidLoginCredentialsException, InvalidFutureExpiryDateException,\n",
        "            InvalidOptionExpiryDateException, OptionChainFetchException,\n",
        "            FuturesFetchException, SpotFetchException, \n",
        "            OptionChainFetchException) as e:\n",
        "      pass\n",
        "    except KeyboardInterrupt: \n",
        "      clear_output(wait=True)\n",
        "      display(HTML(\"<h2 style='color: #FF4500'>Error : Option Chain fetch interrupted</h2>\"))\n",
        "  else:\n",
        "    display(HTML(f\"<h2 style='color: #FD7F20'>Select atleast one index</h2>\"))"
      ]
    },
    {
      "cell_type": "markdown",
      "metadata": {
        "id": "LB1S9nr-obOV"
      },
      "source": [
        "# Provide Index Details"
      ]
    },
    {
      "cell_type": "code",
      "execution_count": 1,
      "metadata": {
        "id": "kWZBA8YUrqUm",
        "colab": {
          "base_uri": "https://localhost:8080/",
          "height": 236
        },
        "outputId": "744cd5d2-eb03-4a09-8855-bf2244c54dcd"
      },
      "outputs": [
        {
          "output_type": "error",
          "ename": "NameError",
          "evalue": "ignored",
          "traceback": [
            "\u001b[0;31m---------------------------------------------------------------------------\u001b[0m",
            "\u001b[0;31mNameError\u001b[0m                                 Traceback (most recent call last)",
            "\u001b[0;32m<ipython-input-1-a0c79f62f387>\u001b[0m in \u001b[0;36m<module>\u001b[0;34m\u001b[0m\n\u001b[1;32m     10\u001b[0m \u001b[0;31m#@markdown __________________________________\u001b[0m\u001b[0;34m\u001b[0m\u001b[0;34m\u001b[0m\u001b[0m\n\u001b[1;32m     11\u001b[0m \u001b[0;34m\u001b[0m\u001b[0m\n\u001b[0;32m---> 12\u001b[0;31m \u001b[0mBNF_NIFTY_FUT_EXPIRY_\u001b[0m \u001b[0;34m=\u001b[0m \u001b[0mconvertTimeString\u001b[0m\u001b[0;34m(\u001b[0m\u001b[0mBNF_NIFTY_FUT_EXPIRY\u001b[0m\u001b[0;34m)\u001b[0m\u001b[0;34m\u001b[0m\u001b[0;34m\u001b[0m\u001b[0m\n\u001b[0m\u001b[1;32m     13\u001b[0m \u001b[0mFINNIFTY_FUT_EXPIRY_\u001b[0m \u001b[0;34m=\u001b[0m \u001b[0mconvertTimeString\u001b[0m\u001b[0;34m(\u001b[0m\u001b[0mFINNIFTY_FUT_EXPIRY\u001b[0m\u001b[0;34m)\u001b[0m\u001b[0;34m\u001b[0m\u001b[0;34m\u001b[0m\u001b[0m\n\u001b[1;32m     14\u001b[0m \u001b[0;34m\u001b[0m\u001b[0m\n",
            "\u001b[0;31mNameError\u001b[0m: name 'convertTimeString' is not defined"
          ]
        }
      ],
      "source": [
        "#@title { form-width: \"500%\", display-mode: \"form\" }\n",
        "\n",
        "INCLUDE_NIFTY = True #@param { type: 'boolean' }\n",
        "INCLUDE_BANKNIFTY = True #@param { type: 'boolean' }\n",
        "INCLUDE_FINNIFTY = True #@param { type: 'boolean' }\n",
        "#@markdown __________________________________\n",
        "\n",
        "BNF_NIFTY_FUT_EXPIRY = \"2023-03-29\" #@param { type: 'date' }\n",
        "FINNIFTY_FUT_EXPIRY = \"2023-03-28\" #@param { type: 'date' }\n",
        "#@markdown __________________________________\n",
        "\n",
        "BNF_NIFTY_FUT_EXPIRY_ = convertTimeString(BNF_NIFTY_FUT_EXPIRY)\n",
        "FINNIFTY_FUT_EXPIRY_ = convertTimeString(FINNIFTY_FUT_EXPIRY)\n",
        "\n",
        "BNF_NIFTY_EXPIRY = \"2023-03-16\" #@param { type: 'date' }\n",
        "FINNIFTY_EXPIRY = \"2023-03-21\" #@param { type: 'date' }\n",
        "\n",
        "BNF_NIFTY_EXPIRY_ = getEpochTime(BNF_NIFTY_EXPIRY)\n",
        "FINNIFTY_EXPIRY_ = getEpochTime(FINNIFTY_EXPIRY)"
      ]
    },
    {
      "cell_type": "markdown",
      "metadata": {
        "id": "PefknrULoN2j"
      },
      "source": [
        "# Provide 5Paisa Credentials"
      ]
    },
    {
      "cell_type": "code",
      "execution_count": null,
      "metadata": {
        "colab": {
          "base_uri": "https://localhost:8080/",
          "height": 85
        },
        "id": "5jkDOQP7o_bK",
        "outputId": "e687f62f-9848-43a2-b38e-ab58015f89c1"
      },
      "outputs": [
        {
          "output_type": "display_data",
          "data": {
            "text/plain": [
              "<IPython.core.display.HTML object>"
            ],
            "text/html": [
              "<h2 style='color: #FD7F20'>Add Credenitals</h2>"
            ]
          },
          "metadata": {}
        },
        {
          "output_type": "display_data",
          "data": {
            "text/plain": [
              "<IPython.core.display.HTML object>"
            ],
            "text/html": [
              "\n",
              "     <input type=\"file\" id=\"files-5bb3780f-6ad6-42fa-b6ad-84efe31d709c\" name=\"files[]\" multiple disabled\n",
              "        style=\"border:none\" />\n",
              "     <output id=\"result-5bb3780f-6ad6-42fa-b6ad-84efe31d709c\">\n",
              "      Upload widget is only available when the cell has been executed in the\n",
              "      current browser session. Please rerun this cell to enable.\n",
              "      </output>\n",
              "      <script>// Copyright 2017 Google LLC\n",
              "//\n",
              "// Licensed under the Apache License, Version 2.0 (the \"License\");\n",
              "// you may not use this file except in compliance with the License.\n",
              "// You may obtain a copy of the License at\n",
              "//\n",
              "//      http://www.apache.org/licenses/LICENSE-2.0\n",
              "//\n",
              "// Unless required by applicable law or agreed to in writing, software\n",
              "// distributed under the License is distributed on an \"AS IS\" BASIS,\n",
              "// WITHOUT WARRANTIES OR CONDITIONS OF ANY KIND, either express or implied.\n",
              "// See the License for the specific language governing permissions and\n",
              "// limitations under the License.\n",
              "\n",
              "/**\n",
              " * @fileoverview Helpers for google.colab Python module.\n",
              " */\n",
              "(function(scope) {\n",
              "function span(text, styleAttributes = {}) {\n",
              "  const element = document.createElement('span');\n",
              "  element.textContent = text;\n",
              "  for (const key of Object.keys(styleAttributes)) {\n",
              "    element.style[key] = styleAttributes[key];\n",
              "  }\n",
              "  return element;\n",
              "}\n",
              "\n",
              "// Max number of bytes which will be uploaded at a time.\n",
              "const MAX_PAYLOAD_SIZE = 100 * 1024;\n",
              "\n",
              "function _uploadFiles(inputId, outputId) {\n",
              "  const steps = uploadFilesStep(inputId, outputId);\n",
              "  const outputElement = document.getElementById(outputId);\n",
              "  // Cache steps on the outputElement to make it available for the next call\n",
              "  // to uploadFilesContinue from Python.\n",
              "  outputElement.steps = steps;\n",
              "\n",
              "  return _uploadFilesContinue(outputId);\n",
              "}\n",
              "\n",
              "// This is roughly an async generator (not supported in the browser yet),\n",
              "// where there are multiple asynchronous steps and the Python side is going\n",
              "// to poll for completion of each step.\n",
              "// This uses a Promise to block the python side on completion of each step,\n",
              "// then passes the result of the previous step as the input to the next step.\n",
              "function _uploadFilesContinue(outputId) {\n",
              "  const outputElement = document.getElementById(outputId);\n",
              "  const steps = outputElement.steps;\n",
              "\n",
              "  const next = steps.next(outputElement.lastPromiseValue);\n",
              "  return Promise.resolve(next.value.promise).then((value) => {\n",
              "    // Cache the last promise value to make it available to the next\n",
              "    // step of the generator.\n",
              "    outputElement.lastPromiseValue = value;\n",
              "    return next.value.response;\n",
              "  });\n",
              "}\n",
              "\n",
              "/**\n",
              " * Generator function which is called between each async step of the upload\n",
              " * process.\n",
              " * @param {string} inputId Element ID of the input file picker element.\n",
              " * @param {string} outputId Element ID of the output display.\n",
              " * @return {!Iterable<!Object>} Iterable of next steps.\n",
              " */\n",
              "function* uploadFilesStep(inputId, outputId) {\n",
              "  const inputElement = document.getElementById(inputId);\n",
              "  inputElement.disabled = false;\n",
              "\n",
              "  const outputElement = document.getElementById(outputId);\n",
              "  outputElement.innerHTML = '';\n",
              "\n",
              "  const pickedPromise = new Promise((resolve) => {\n",
              "    inputElement.addEventListener('change', (e) => {\n",
              "      resolve(e.target.files);\n",
              "    });\n",
              "  });\n",
              "\n",
              "  const cancel = document.createElement('button');\n",
              "  inputElement.parentElement.appendChild(cancel);\n",
              "  cancel.textContent = 'Cancel upload';\n",
              "  const cancelPromise = new Promise((resolve) => {\n",
              "    cancel.onclick = () => {\n",
              "      resolve(null);\n",
              "    };\n",
              "  });\n",
              "\n",
              "  // Wait for the user to pick the files.\n",
              "  const files = yield {\n",
              "    promise: Promise.race([pickedPromise, cancelPromise]),\n",
              "    response: {\n",
              "      action: 'starting',\n",
              "    }\n",
              "  };\n",
              "\n",
              "  cancel.remove();\n",
              "\n",
              "  // Disable the input element since further picks are not allowed.\n",
              "  inputElement.disabled = true;\n",
              "\n",
              "  if (!files) {\n",
              "    return {\n",
              "      response: {\n",
              "        action: 'complete',\n",
              "      }\n",
              "    };\n",
              "  }\n",
              "\n",
              "  for (const file of files) {\n",
              "    const li = document.createElement('li');\n",
              "    li.append(span(file.name, {fontWeight: 'bold'}));\n",
              "    li.append(span(\n",
              "        `(${file.type || 'n/a'}) - ${file.size} bytes, ` +\n",
              "        `last modified: ${\n",
              "            file.lastModifiedDate ? file.lastModifiedDate.toLocaleDateString() :\n",
              "                                    'n/a'} - `));\n",
              "    const percent = span('0% done');\n",
              "    li.appendChild(percent);\n",
              "\n",
              "    outputElement.appendChild(li);\n",
              "\n",
              "    const fileDataPromise = new Promise((resolve) => {\n",
              "      const reader = new FileReader();\n",
              "      reader.onload = (e) => {\n",
              "        resolve(e.target.result);\n",
              "      };\n",
              "      reader.readAsArrayBuffer(file);\n",
              "    });\n",
              "    // Wait for the data to be ready.\n",
              "    let fileData = yield {\n",
              "      promise: fileDataPromise,\n",
              "      response: {\n",
              "        action: 'continue',\n",
              "      }\n",
              "    };\n",
              "\n",
              "    // Use a chunked sending to avoid message size limits. See b/62115660.\n",
              "    let position = 0;\n",
              "    do {\n",
              "      const length = Math.min(fileData.byteLength - position, MAX_PAYLOAD_SIZE);\n",
              "      const chunk = new Uint8Array(fileData, position, length);\n",
              "      position += length;\n",
              "\n",
              "      const base64 = btoa(String.fromCharCode.apply(null, chunk));\n",
              "      yield {\n",
              "        response: {\n",
              "          action: 'append',\n",
              "          file: file.name,\n",
              "          data: base64,\n",
              "        },\n",
              "      };\n",
              "\n",
              "      let percentDone = fileData.byteLength === 0 ?\n",
              "          100 :\n",
              "          Math.round((position / fileData.byteLength) * 100);\n",
              "      percent.textContent = `${percentDone}% done`;\n",
              "\n",
              "    } while (position < fileData.byteLength);\n",
              "  }\n",
              "\n",
              "  // All done.\n",
              "  yield {\n",
              "    response: {\n",
              "      action: 'complete',\n",
              "    }\n",
              "  };\n",
              "}\n",
              "\n",
              "scope.google = scope.google || {};\n",
              "scope.google.colab = scope.google.colab || {};\n",
              "scope.google.colab._files = {\n",
              "  _uploadFiles,\n",
              "  _uploadFilesContinue,\n",
              "};\n",
              "})(self);\n",
              "</script> "
            ]
          },
          "metadata": {}
        }
      ],
      "source": [
        "#@title { form-width: \"500%\", display-mode: \"form\" }\n",
        "import os\n",
        "import sys\n",
        "import subprocess\n",
        "from IPython.display import display, HTML, Javascript, clear_output\n",
        "from google.colab import files\n",
        "sys.tracebacklimit = 0\n",
        "\n",
        "file_name = \"creds.txt\\\"\" #@param { type: 'string'}\n",
        "\n",
        "if not os.path.exists('/content/creds.txt'):\n",
        "  display(HTML(\"<h2 style='color: #FD7F20'>Add Credenitals</h2>\"))\n",
        "  files.upload()\n",
        "  clear_output(wait=True)\n",
        "  with open(file_name, 'r') as f:\n",
        "    creds = f.read().lstrip().rstrip().split('\\n')\n",
        "\n",
        "    creds = [c.split('=')[1].strip() for c in creds]\n",
        "\n",
        "    EMAIL = creds[0]\n",
        "    PASSWORD_5PAISA = creds[1]\n",
        "    DOB_YYYYMMDD = creds[2]\n",
        "\n",
        "    APP_NAME = creds[3]\n",
        "    APP_SOURCE = creds[4]\n",
        "    USER_ID = creds[5]\n",
        "    PASSWORD = creds[6]\n",
        "    USER_KEY = creds[7]\n",
        "    ENCRYPTION_KEY = creds[8]\n",
        "\n",
        "    CREDS = {'APP_NAME':APP_NAME, \n",
        "             'APP_SOURCE':APP_SOURCE,\n",
        "             'USER_ID': USER_ID,\n",
        "             'PASSWORD': PASSWORD,\n",
        "             'USER_KEY': USER_KEY,\n",
        "             'ENCRYPTION_KEY': ENCRYPTION_KEY}\n",
        "    display(HTML(\"<h2 style='color: #00D100'>Credentials Added</h2>\"))\n",
        "\n",
        "\n",
        "if not os.path.exists('/content/.config/discount-check'):\n",
        "  os.chdir('/content/.config')\n",
        "  display(HTML(\"<h2 style='color: #FD7F20'>Downloading 5Paisa...</h2>\"))\n",
        "  !git clone https://github.com/mhdSharuk/discount-check.git --quiet\n",
        "  os.chdir('./discount-check')\n",
        "  result = subprocess.run([\"pip\", \"install\", \"-r\", \"./requirements.txt\"], capture_output=False)\n",
        "  display(HTML(f\"<h2 style='color: #00D100'>Finished Downloading</h2>\"))\n",
        "\n",
        "from py5paisa import (\n",
        "    FivePaisaClient,\n",
        "    InvalidLoginCredentialsException,\n",
        "    InvalidFutureExpiryDateException,\n",
        "    InvalidLoginException,\n",
        "    FetchExpiryException,\n",
        "    InvalidOptionExpiryDateException,\n",
        "    FuturesFetchException, \n",
        "    SpotFetchException, \n",
        "    OptionChainFetchException,\n",
        "    getEpochTime,\n",
        "    convertTimeString\n",
        "    )\n",
        "\n",
        "from discount_check import FetchOptionData"
      ]
    }
  ],
  "metadata": {
    "colab": {
      "collapsed_sections": [
        "VFLLCrOugfmT",
        "LB1S9nr-obOV"
      ],
      "provenance": [],
      "include_colab_link": true
    },
    "kernelspec": {
      "display_name": "Python 3",
      "name": "python3"
    },
    "language_info": {
      "name": "python"
    }
  },
  "nbformat": 4,
  "nbformat_minor": 0
}